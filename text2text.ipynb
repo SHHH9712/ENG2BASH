{
 "cells": [
  {
   "cell_type": "code",
   "execution_count": 63,
   "metadata": {},
   "outputs": [],
   "source": [
    "from transformers import pipeline\n",
    "models = [\n",
    "    \"kevinum/t5-small-finetuned-English-to-BASH\",\n",
    "    \"alexsha/t5-small-finetuned-NL2BASH-customv3\",\n",
    "]\n",
    "\n",
    "classifiers = []\n",
    "\n",
    "for m in models:\n",
    "    classifiers.append(pipeline(model=m))\n"
   ]
  },
  {
   "cell_type": "code",
   "execution_count": 64,
   "metadata": {},
   "outputs": [
    {
     "name": "stderr",
     "output_type": "stream",
     "text": [
      "C:\\Users\\sha\\AppData\\Local\\Temp\\ipykernel_4732\\1160527465.py:2: ParserWarning: Falling back to the 'python' engine because the 'c' engine does not support regex separators (separators > 1 char and different from '\\s+' are interpreted as regex); you can avoid this warning by specifying engine='python'.\n",
      "  df = pd.read_csv(r\"C:\\Users\\sha\\Desktop\\ENG2BASH\\final_evalutaion\\valid.csv\", header=None, delimiter=\" -> \")\n"
     ]
    }
   ],
   "source": [
    "import pandas as pd\n",
    "df = pd.read_csv(r\"C:\\Users\\sha\\Desktop\\ENG2BASH\\final_evalutaion\\valid.csv\", header=None, delimiter=\" -> \")\n",
    "df.columns = [\"input\", \"output\"]"
   ]
  },
  {
   "cell_type": "code",
   "execution_count": 65,
   "metadata": {},
   "outputs": [],
   "source": [
    "result = {\n",
    "    \"input\":df[\"input\"].to_list(),\n",
    "    \"ground_truth\":df[\"output\"].to_list(),\n",
    "}\n",
    "for classifier, model in zip(classifiers, models):\n",
    "    result[model] = [x[\"generated_text\"] for x in classifier(result['input'])]\n",
    "    \n",
    "eval = pd.DataFrame(result)\n",
    "eval.to_csv(\"eval.csv\")"
   ]
  }
 ],
 "metadata": {
  "kernelspec": {
   "display_name": "ml",
   "language": "python",
   "name": "python3"
  },
  "language_info": {
   "codemirror_mode": {
    "name": "ipython",
    "version": 3
   },
   "file_extension": ".py",
   "mimetype": "text/x-python",
   "name": "python",
   "nbconvert_exporter": "python",
   "pygments_lexer": "ipython3",
   "version": "3.10.9"
  },
  "orig_nbformat": 4
 },
 "nbformat": 4,
 "nbformat_minor": 2
}
